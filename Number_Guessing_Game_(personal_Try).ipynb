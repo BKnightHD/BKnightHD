{
  "nbformat": 4,
  "nbformat_minor": 0,
  "metadata": {
    "colab": {
      "provenance": [],
      "authorship_tag": "ABX9TyNoDFRaqzMyaSDxY0ZvwHdm",
      "include_colab_link": true
    },
    "kernelspec": {
      "name": "python3",
      "display_name": "Python 3"
    },
    "language_info": {
      "name": "python"
    }
  },
  "cells": [
    {
      "cell_type": "markdown",
      "metadata": {
        "id": "view-in-github",
        "colab_type": "text"
      },
      "source": [
        "<a href=\"https://colab.research.google.com/github/BKnightHD/BKnightHD/blob/main/Number_Guessing_Game_(personal_Try).ipynb\" target=\"_parent\"><img src=\"https://colab.research.google.com/assets/colab-badge.svg\" alt=\"Open In Colab\"/></a>"
      ]
    },
    {
      "cell_type": "markdown",
      "source": [
        "# Number Guessing Game\n",
        "- Prompt the user to guess a secret number between 1 and 10.\n",
        "- The program will have 3 chances to guess.\n",
        "- If the player choses yes, then continue with the program, if no, then stop the program, if anything else, ask them to type in a correct repsponse."
      ],
      "metadata": {
        "id": "fJH7sK1Nleoo"
      }
    },
    {
      "cell_type": "code",
      "source": [
        "ask_counter = 0\n",
        "user_prompt = input(\"Hello!\\nThis program is designed to play a number guessing game.\\n\" +\n",
        "                    \"Please choose a number between 0 and 10!\\n\" +\n",
        "                    \"I will then have 3 chances to guess your number.\\n\"+\n",
        "                    \"Would you like to play? \"\n",
        "                    )\n",
        "\n",
        "while ask_counter < 3: # while loop to ensure user is providing a proper answer. Asks only 2 times\n",
        "#####\n",
        "  if user_prompt == 'y' or user_prompt =='yes': # code for guessing game\n",
        "    ask_counter = 3\n",
        "    print(\"Great, lets play\")\n",
        "  elif user_prompt == 'n' or user_prompt =='no':\n",
        "    ask_counter = 3\n",
        "    print(\"Thank you for your time!\")\n",
        "  else:\n",
        "    ask_counter += 1\n",
        "    user_second_prompt = input(\"I don't know how to interpret that answer, please provide yes or no. \")\n",
        "#####\n",
        "    if user_second_prompt == 'y' or user_second_prompt =='yes': # code for guessing game\n",
        "      ask_counter = 3\n",
        "      print(\"Great, lets play\")\n",
        "    elif user_prompt == 'n' or user_prompt =='no':\n",
        "      ask_counter = 3\n",
        "      print(\"Thank you for your time!\")\n",
        "    else:\n",
        "      ask_counter += 1\n",
        "      user_third_prompt = input(\"I don't know how to interpret that answer, please provide yes or no. \")\n",
        "#####\n",
        "      if user_third_prompt == 'y' or user_second_prompt =='yes': # code for guessing game\n",
        "        ask_counter = 3\n",
        "        print(\"Great, lets play\")\n",
        "      elif user_prompt == 'n' or user_prompt =='no':\n",
        "        ask_counter = 3\n",
        "        print(\"Thank you for your time!\")\n",
        "      else:\n",
        "        ask_counter += 1\n",
        "\n",
        "print(\"I'm sorry, I can't interpret your answer. Goodbye.\")\n",
        "\n",
        "########################################"
      ],
      "metadata": {
        "colab": {
          "base_uri": "https://localhost:8080/"
        },
        "id": "TLLmFX2KlqYh",
        "outputId": "eea00ec3-a9df-4339-f409-c21be288abe4"
      },
      "execution_count": 11,
      "outputs": [
        {
          "output_type": "stream",
          "name": "stdout",
          "text": [
            "Hello!\n",
            "This program is designed to play a number guessing game.\n",
            "Please choose a number between 0 and 10!\n",
            "I will then have 3 chances to guess your number.\n",
            "Would you like to play? n\n",
            "Thank you for your time!\n",
            "I'm sorry, I can't interpret your answer. Goodbye.\n"
          ]
        }
      ]
    },
    {
      "cell_type": "markdown",
      "source": [
        "# 2nd implimentation"
      ],
      "metadata": {
        "id": "Z--mp7nCpkfW"
      }
    },
    {
      "cell_type": "code",
      "source": [
        "user_prompt = input(\"Hello!\\nThis program is designed to play a number guessing game.\\n\" +\n",
        "                    \"Please choose a number between 0 and 10!\\n\" +\n",
        "                    \"I will then have 3 chances to guess your number.\\n\"+\n",
        "                    \"Would you like to play? \"\n",
        "                    ).lower() # to make code case insensitive\n",
        "\n",
        "# While loop if user gives incorrect answer, breaks after 3 times.\n",
        "counter = 0\n",
        "while user_prompt not in ['yes', 'y', 'no', 'n'] and counter < 3:\n",
        "  counter += 1\n",
        "  user_prompt = input(\"I don't know how to interpret that answer, please provide yes or no. \").lower()\n",
        "  if user_prompt in ['yes', 'y']:\n",
        "    break\n",
        "  elif user_prompt in ['no', 'n']:\n",
        "    break\n",
        "  elif counter >= 3:\n",
        "    print(\"I'm sorry, I can't interpret your answer. Goodbye.\")\n",
        "\n",
        "if user_prompt in ['no', 'n']:\n",
        "  print(\"Ahh that's too bad. Have a nice day!\")\n",
        "\n",
        "if user_prompt in ['yes', 'y']:\n",
        "  # code for full program begins..\n",
        "  print(\"Start the game\")\n",
        "  # code for full program begins..\n",
        "\n",
        "\n",
        "\n"
      ],
      "metadata": {
        "colab": {
          "base_uri": "https://localhost:8080/"
        },
        "id": "zsluV1kolqdI",
        "outputId": "bc4c3ef5-ad9d-4ebe-e294-331a895e2572"
      },
      "execution_count": 29,
      "outputs": [
        {
          "output_type": "stream",
          "name": "stdout",
          "text": [
            "Hello!\n",
            "This program is designed to play a number guessing game.\n",
            "Please choose a number between 0 and 10!\n",
            "I will then have 3 chances to guess your number.\n",
            "Would you like to play? p\n",
            "I don't know how to interpret that answer, please provide yes or no. p\n",
            "I don't know how to interpret that answer, please provide yes or no. \n",
            "I don't know how to interpret that answer, please provide yes or no. y\n",
            "Start the game\n"
          ]
        }
      ]
    },
    {
      "cell_type": "markdown",
      "source": [
        "- Ask the user to provide their answer.\n",
        "If the number is not in that range, tell them to guess again. If it is in the range, write a message.\n",
        "Ask them if they want to play again, if not, stop the program.p\n"
      ],
      "metadata": {
        "id": "sbVkiqIEnNGX"
      }
    },
    {
      "cell_type": "markdown",
      "source": [],
      "metadata": {
        "id": "_IyUfZjEnNI7"
      }
    }
  ]
}