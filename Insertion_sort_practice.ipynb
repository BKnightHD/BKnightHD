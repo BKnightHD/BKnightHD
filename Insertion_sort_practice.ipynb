{
  "nbformat": 4,
  "nbformat_minor": 0,
  "metadata": {
    "colab": {
      "provenance": [],
      "authorship_tag": "ABX9TyPGfk5Na5Tvdb0em0BLm4hA",
      "include_colab_link": true
    },
    "kernelspec": {
      "name": "python3",
      "display_name": "Python 3"
    },
    "language_info": {
      "name": "python"
    }
  },
  "cells": [
    {
      "cell_type": "markdown",
      "metadata": {
        "id": "view-in-github",
        "colab_type": "text"
      },
      "source": [
        "<a href=\"https://colab.research.google.com/github/BKnightHD/BKnightHD/blob/main/Insertion_sort_practice.ipynb\" target=\"_parent\"><img src=\"https://colab.research.google.com/assets/colab-badge.svg\" alt=\"Open In Colab\"/></a>"
      ]
    },
    {
      "cell_type": "code",
      "source": [
        "import random\n",
        "random.seed(2)\n",
        "\n",
        "arr = [10, 20, 30, 40, 50]\n",
        "\n",
        "for i in range(len(arr)):\n",
        "  print(arr[i])\n",
        "\n",
        "###########\n",
        "\n",
        "lst = ['jones', 'adam', 'brandon', 'alex', 'sarah', 'nick']\n",
        "lst.sort()\n",
        "for name in lst:\n",
        "  print(name.title())\n",
        "\n",
        "\n",
        "random_list = [random.randint(1, 100) for number in range(10)]\n",
        "\n",
        "print(\", \".join(map(str, random_list)))\n",
        "\n",
        "for something in range(15):\n",
        "  random.randint(1, 100)\n",
        "  print(something)"
      ],
      "metadata": {
        "id": "UeCTp8X60rFY",
        "outputId": "cf160367-d4f3-49d0-cc0a-503a03ed3260",
        "colab": {
          "base_uri": "https://localhost:8080/"
        }
      },
      "execution_count": null,
      "outputs": [
        {
          "output_type": "stream",
          "name": "stdout",
          "text": [
            "10\n",
            "20\n",
            "30\n",
            "40\n",
            "50\n",
            "Adam\n",
            "Alex\n",
            "Brandon\n",
            "Jones\n",
            "Nick\n",
            "Sarah\n",
            "8, 12, 11, 47, 22, 95, 86, 40, 33, 78\n",
            "0\n",
            "1\n",
            "2\n",
            "3\n",
            "4\n",
            "5\n",
            "6\n",
            "7\n",
            "8\n",
            "9\n",
            "10\n",
            "11\n",
            "12\n",
            "13\n",
            "14\n"
          ]
        }
      ]
    },
    {
      "cell_type": "code",
      "source": [
        "# get random list of numbers\n",
        "import random\n",
        "random.seed(1)\n",
        "\n",
        "\n",
        "# print random list to prove it's not in order\n",
        "def insertionSort(arr):\n",
        "  \"\"\"Insertion sort algorithm\"\"\"\n",
        "  random_list = [random.randint(1, 10) for value in range(5)]\n",
        "  print(\"Here is the list in it's original order: \" + \" \".join(map(str, random_list)))\n",
        "\n",
        "  n = len(random_list) # setting n equal to the length of the list\n",
        "  if n <= 1:\n",
        "    return # If the array has 0 or 1 element, it is already sorted by default, so return\n",
        "\n",
        "  for value in range(1, n): # Try to understand this part\n",
        "    key = arr[value]\n",
        "    j = value -1\n",
        "    while j >= 0 and key < arr[j]:\n",
        "      arr\n",
        "\n",
        "  print(\"Here is the list sorted\")\n",
        "insertionSort(arr)"
      ],
      "metadata": {
        "colab": {
          "base_uri": "https://localhost:8080/"
        },
        "id": "y3npRuTSuybu",
        "outputId": "926c821f-3e73-4281-8a14-4f2957a4da65"
      },
      "execution_count": null,
      "outputs": [
        {
          "output_type": "stream",
          "name": "stdout",
          "text": [
            "Here is the list in it's original order: 3 10 2 5 2\n"
          ]
        }
      ]
    },
    {
      "cell_type": "code",
      "execution_count": null,
      "metadata": {
        "colab": {
          "base_uri": "https://localhost:8080/"
        },
        "id": "weD4ErAMo6vj",
        "outputId": "91097704-56ff-4c83-d475-5c4dae97ce69"
      },
      "outputs": [
        {
          "output_type": "stream",
          "name": "stdout",
          "text": [
            "[5, 6, 11, 12, 13]\n"
          ]
        }
      ],
      "source": [
        "def insertionSort(arr):\n",
        "\tn = len(arr) # Get the length of the array\n",
        "\n",
        "\tif n <= 1:\n",
        "\t\treturn # If the array has 0 or 1 element, it is already sorted, so return\n",
        "\n",
        "\tfor i in range(1, n): # Iterate over the array starting from the second element\n",
        "\t\tkey = arr[i] # Store the current element as the key to be inserted in the right position\n",
        "\t\tj = i-1\n",
        "\t\twhile j >= 0 and key < arr[j]: # Move elements greater than key one position ahead\n",
        "\t\t\tarr[j+1] = arr[j] # Shift elements to the right\n",
        "\t\t\tj -= 1\n",
        "\t\tarr[j+1] = key # Insert the key in the correct position\n",
        "\n",
        "# Sorting the array [12, 11, 13, 5, 6] using insertionSort\n",
        "arr = [12, 11, 13, 5, 6]\n",
        "insertionSort(arr)\n",
        "print(arr)"
      ]
    },
    {
      "cell_type": "markdown",
      "source": [
        "# Conceptualizing insertion sort algorithm\n",
        "- First, I have to understand how to use functions.\\\n",
        "Functions are named blockes of code that are designed to do one specific job. When you want to perform a particular task that you've defined in a function, you call the name of the function responsible for it."
      ],
      "metadata": {
        "id": "C0AqrkAVpC8o"
      }
    },
    {
      "cell_type": "code",
      "source": [
        "def greet_user(): # key work \"def\" is used to tell python we are defining a function\n",
        "  \"\"\"Display a simple greeting.\"\"\" # This is a comment called a docstring; Used to describe what the function does.\n",
        "  print(\"Hello\") # one line of code in this function; greet_user just needs to print \"Hello\"\n",
        "\n",
        "greet_user()"
      ],
      "metadata": {
        "colab": {
          "base_uri": "https://localhost:8080/"
        },
        "id": "OYWV7ok-pGLX",
        "outputId": "def63627-bde8-464c-d456-743ea1175d38"
      },
      "execution_count": null,
      "outputs": [
        {
          "output_type": "stream",
          "name": "stdout",
          "text": [
            "Hello\n"
          ]
        }
      ]
    },
    {
      "cell_type": "code",
      "source": [],
      "metadata": {
        "id": "YNZ_7OLUqLeM"
      },
      "execution_count": null,
      "outputs": []
    }
  ]
}