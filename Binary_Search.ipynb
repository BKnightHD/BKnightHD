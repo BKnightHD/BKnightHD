{
  "nbformat": 4,
  "nbformat_minor": 0,
  "metadata": {
    "colab": {
      "provenance": [],
      "authorship_tag": "ABX9TyPEwrGqiE8vPLLR6Xg+K6yQ",
      "include_colab_link": true
    },
    "kernelspec": {
      "name": "python3",
      "display_name": "Python 3"
    },
    "language_info": {
      "name": "python"
    }
  },
  "cells": [
    {
      "cell_type": "markdown",
      "metadata": {
        "id": "view-in-github",
        "colab_type": "text"
      },
      "source": [
        "<a href=\"https://colab.research.google.com/github/BKnightHD/BKnightHD/blob/main/Binary_Search.ipynb\" target=\"_parent\"><img src=\"https://colab.research.google.com/assets/colab-badge.svg\" alt=\"Open In Colab\"/></a>"
      ]
    },
    {
      "cell_type": "code",
      "execution_count": null,
      "metadata": {
        "id": "GV7jN3p6IxyC"
      },
      "outputs": [],
      "source": [
        "# Python 3 program for recursive binary search.\n",
        "# Modifications needed for the older Python 2 are found in comments.\n",
        "\n",
        "# Returns index of x in arr if present, else -1\n",
        "def binary_search(arr, low, high, x):\n",
        "\n",
        "\t# Check base case\n",
        "\tif high >= low:\n",
        "\n",
        "\t\tmid = (high + low) // 2\n",
        "\n",
        "\t\t# If element is present at the middle itself\n",
        "\t\tif arr[mid] == x:\n",
        "\t\t\treturn mid\n",
        "\n",
        "\t\t# If element is smaller than mid, then it can only\n",
        "\t\t# be present in left subarray\n",
        "\t\telif arr[mid] > x:\n",
        "\t\t\treturn binary_search(arr, low, mid - 1, x)\n",
        "\n",
        "\t\t# Else the element can only be present in right subarray\n",
        "\t\telse:\n",
        "\t\t\treturn binary_search(arr, mid + 1, high, x)\n",
        "\n",
        "\telse:\n",
        "\t\t# Element is not present in the array\n",
        "\t\treturn -1\n",
        "\n",
        "# Test array\n",
        "arr = [ 2, 3, 4, 10, 40 ]\n",
        "x = 10\n",
        "\n",
        "# Function call\n",
        "result = binary_search(arr, 0, len(arr)-1, x)\n",
        "\n",
        "if result != -1:\n",
        "\tprint(\"Element is present at index\", str(result))\n",
        "else:\n",
        "\tprint(\"Element is not present in array\")\n"
      ]
    },
    {
      "cell_type": "code",
      "source": [
        "def insertionSort(arr):\n",
        "  n = len(arr)\n",
        "  if n <= 1:\n",
        "    return\n",
        "\n",
        "  for i in range(1, n):\n",
        "    key = arr[i]\n",
        "    j = i - 1\n",
        "    while j >= 0 and key < arr[j]:\n",
        "      arr[j + 1] = arr[j]\n",
        "      j -= 1\n",
        "    arr[j + 1] = key\n",
        "\n",
        "def binary_search(arr, low, high, x):\n",
        "  if high >= low:\n",
        "    mid = (high + low) // 2 # finding the middle of the list\n",
        "\n",
        "    if arr[mid] == x: # if the element is already in the middle of the list\n",
        "      return mid\n",
        "\n",
        "    # if element is smaller than mid, then it can only be present in the left subarray\n",
        "    elif arr[mid] > x:\n",
        "      return binary_search(arr, low, mid - 1, x)\n",
        "\n",
        "    # else the element can only be present in the right subarray\n",
        "    else:\n",
        "      return binary_search(arr, mid + 1, high, x)\n",
        "\n",
        "  else:\n",
        "    return binary_search(arr, mid + 1, high, x)\n",
        "\n",
        "arr = [3, 9, 1, 6, 4, 5, 7, 8, 2]\n",
        "x = 3 # value I want to find in list\n",
        "\n",
        "print(\"Original list: \" + \" \".join(map(str, arr)))\n",
        "insertionSort(arr)\n",
        "\n",
        "print(\"Sorted list: \" + \" \".join(map(str, arr)) + \"\\n\")\n",
        "\n",
        "search = binary_search(arr, 0, len(arr) - 1, x)\n",
        "print(f\"Given the sorted list..the element {x} is present at index\", str(search))"
      ],
      "metadata": {
        "id": "JHj7K-9oI_iH",
        "colab": {
          "base_uri": "https://localhost:8080/"
        },
        "outputId": "2ea4c01e-0937-474d-bb8c-8e9e857d5b92"
      },
      "execution_count": null,
      "outputs": [
        {
          "output_type": "stream",
          "name": "stdout",
          "text": [
            "Original list: 3 9 1 6 4 5 7 8 2\n",
            "Sorted list: 1 2 3 4 5 6 7 8 9\n",
            "\n",
            "Given the sorted list..the element 3 is present at index 2\n"
          ]
        }
      ]
    },
    {
      "cell_type": "code",
      "source": [
        "def insertionSort(lst):\n",
        "  n = len(lst)\n",
        "  if n <= 1:\n",
        "    return\n",
        "\n",
        "  for i in range(1, n):\n",
        "    key = lst[i]\n",
        "    j = i-1\n",
        "    while j >= 0 and key < lst[j]:\n",
        "      lst[j+1] = lst[j]\n",
        "      j -= 1\n",
        "    lst[j + 1] = key\n",
        "\n",
        "array = [3, 5, 2, 6, 1, 0, 9, 8, 7]\n",
        "print(\"Here is our original list: \" + \", \".join(map(str, array)))\n",
        "insertionSort(array)\n",
        "print(\"Here is our new list: \" + \", \".join(map(str, array)))"
      ],
      "metadata": {
        "id": "eDAcjphwaRZ2",
        "colab": {
          "base_uri": "https://localhost:8080/"
        },
        "outputId": "92973003-54d6-4c71-e904-40129d11a82b"
      },
      "execution_count": 8,
      "outputs": [
        {
          "output_type": "stream",
          "name": "stdout",
          "text": [
            "Here is our original list: 3, 5, 2, 6, 1, 0, 9, 8, 7\n",
            "Here is our new list: 0, 1, 2, 3, 5, 6, 7, 8, 9\n"
          ]
        }
      ]
    },
    {
      "cell_type": "code",
      "source": [],
      "metadata": {
        "id": "WhgzueuvvqwP"
      },
      "execution_count": null,
      "outputs": []
    }
  ]
}