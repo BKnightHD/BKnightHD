{
  "nbformat": 4,
  "nbformat_minor": 0,
  "metadata": {
    "colab": {
      "provenance": [],
      "authorship_tag": "ABX9TyM9L2uCW60rw2vsj2ZaCtnO",
      "include_colab_link": true
    },
    "kernelspec": {
      "name": "python3",
      "display_name": "Python 3"
    },
    "language_info": {
      "name": "python"
    }
  },
  "cells": [
    {
      "cell_type": "markdown",
      "metadata": {
        "id": "view-in-github",
        "colab_type": "text"
      },
      "source": [
        "<a href=\"https://colab.research.google.com/github/BKnightHD/BKnightHD/blob/main/Programming_Practice.ipynb\" target=\"_parent\"><img src=\"https://colab.research.google.com/assets/colab-badge.svg\" alt=\"Open In Colab\"/></a>"
      ]
    },
    {
      "cell_type": "markdown",
      "source": [
        "# Programming Assignment 2 (Practice)"
      ],
      "metadata": {
        "id": "S8TMZWtIHYKs"
      }
    },
    {
      "cell_type": "code",
      "source": [
        "# First let us complete a minheap data structure.\n",
        "# Please complete missing parts below.\n",
        "\n",
        "class MinHeap: # constructor of the minheap class\n",
        "    def __init__(self):\n",
        "        self.H = [None] # initialized heap 'H' as a list with None as a placeholder for position 1\n",
        "\n",
        "    def size(self):\n",
        "        return len(self.H)-1 # returns the size of the heap. With None as a placeholder at index 0\n",
        "                             # we must account for it in our length be subtracting 1 from our length\n",
        "\n",
        "    def __repr__(self):\n",
        "        return str(self.H[1:]) # string representation of the heap excluding the first element (sliced)\n",
        "\n",
        "    def satisfies_assertions(self):\n",
        "        for i in range(2, len(self.H)):\n",
        "            assert self.H[i] >= self.H[i//2],  f'Min heap property fails at position {i//2}, parent elt: {self.H[i//2]}, child elt: {self.H[i]}'\n",
        "      # This method checks whether the min-heap property is satisfied for the entire heap.\n",
        "      # asserts that every child is bigger than it's parent...if not, then it raises an assertion error witha message indicating\n",
        "      # the position and values of the parent and child elements that violate the property.\n",
        "\n",
        "    def min_element(self): # returns the minimum element of the heap which will always be at the root since this is a min-heap\n",
        "        return self.H[1]\n",
        "\n",
        "\n",
        "    ## bubble_up function at index\n",
        "    def bubble_up(self, index):\n",
        "        assert index >= 1 # ensures that the provided inxed is at least 1\n",
        "        if index == 1: # index 1 is the root and has no parent, so there would be no need to bubble up\n",
        "            return\n",
        "        parent_index = index // 2 # finds the parent index after finding out that the index isn't 1\n",
        "        if self.H[parent_index] < self.H[index]: # checks if parent is already less than child\n",
        "            return\n",
        "        else:\n",
        "            self.H[parent_index], self.H[index] = self.H[index], self.H[parent_index] # swap\n",
        "            self.bubble_up(parent_index)\n",
        "      # 1. Else, if the parent element is greater than the current element, then the min-heap property is violated so we should swap\n",
        "      # 2. The elements at parent index and index are swapped\n",
        "      # 3. Continues checking and fixing the heap property up the tree.\n",
        "\n",
        "\n",
        "    ## bubble_down function at index\n",
        "    def bubble_down(self, index):\n",
        "        assert index >= 1 and index < len(self.H) # ensures provided index is valid (at least one and less than the length of the heap)\n",
        "        lchild_index = 2 * index # setting left child\n",
        "        rchild_index = 2 * index + 1 # setting right child\n",
        "        # set up the value of left child to the element at that index if valid, or else make it +Infinity\n",
        "        lchild_value = self.H[lchild_index] if lchild_index < len(self.H) else float('inf') # ensures that the node without a child will not be swapped down\n",
        "\n",
        "        # set up the value of right child to the element at that index if valid, or else make it +Infinity\n",
        "        rchild_value = self.H[rchild_index] if rchild_index < len(self.H) else float('inf') # ensures that the node without a child will not be swapped down\n",
        "\n",
        "\n",
        "        # If the value at the index is lessthan or equal to the minimum of two children, then nothing else to do\n",
        "        if self.H[index] <= min(lchild_value, rchild_value):\n",
        "            return\n",
        "        # Otherwise, find the index and value of the smaller of the two children.\n",
        "        # A useful python trick is to compare\n",
        "        min_child_value, min_child_index = min ((lchild_value, lchild_index), (rchild_value, rchild_index))\n",
        "        # Swap the current index with the least of its two children\n",
        "        self.H[index], self.H[min_child_index] = self.H[min_child_index], self.H[index]\n",
        "        # Bubble down on the minimum child index\n",
        "        self.bubble_down(min_child_index)\n",
        "\n",
        "\n",
        "    # Function: heap_insert\n",
        "    # Insert elt into heap\n",
        "    # Use bubble_up/bubble_down function\n",
        "    def insert(self, elt):\n",
        "        # your code here\n",
        "\n",
        "        # INSERT\n",
        "        self.H.append(elt)\n",
        "        self.bubble_up(self.size())\n",
        "\n",
        "    # Function: heap_delete_min\n",
        "    # delete the smallest element in the heap. Use bubble_up/bubble_down\n",
        "    def delete_min(self):\n",
        "        # your code here\n",
        "\n",
        "        if (len(self.H) == 2):\n",
        "            return self.H.pop()\n",
        "\n",
        "        min_elt = self.H[1]\n",
        "        self.H[1] = self.H.pop()\n",
        "        self.bubble_down(1)\n",
        "\n",
        "        return min_elt\n",
        "\n",
        ""
      ],
      "metadata": {
        "id": "TSx9OVIvvo3c"
      },
      "execution_count": 9,
      "outputs": []
    },
    {
      "cell_type": "markdown",
      "source": [
        "# Test answer"
      ],
      "metadata": {
        "id": "LLOfaytQHfVn"
      }
    },
    {
      "cell_type": "code",
      "source": [
        "h = MinHeap()\n",
        "print('Inserting: 5, 2, 4, -1 and 7 in that order.')\n",
        "h.insert(5)\n",
        "print(f'\\t Heap = {h}')\n",
        "assert(h.min_element() == 5)\n",
        "h.insert(2)\n",
        "print(f'\\t Heap = {h}')\n",
        "assert(h.min_element() == 2)\n",
        "h.insert(4)\n",
        "print(f'\\t Heap = {h}')\n",
        "assert(h.min_element() == 2)\n",
        "h.insert(-1)\n",
        "print(f'\\t Heap = {h}')\n",
        "assert(h.min_element() == -1)\n",
        "h.insert(7)\n",
        "print(f'\\t Heap = {h}')\n",
        "assert(h.min_element() == -1)\n",
        "h.satisfies_assertions()\n",
        "\n",
        "print('Deleting minimum element')\n",
        "h.delete_min()\n",
        "print(f'\\t Heap = {h}')\n",
        "assert(h.min_element() == 2)\n",
        "h.delete_min()\n",
        "print(f'\\t Heap = {h}')\n",
        "assert(h.min_element() == 4)\n",
        "h.delete_min()\n",
        "print(f'\\t Heap = {h}')\n",
        "assert(h.min_element() == 5)\n",
        "h.delete_min()\n",
        "print(f'\\t Heap = {h}')\n",
        "assert(h.min_element() == 7)\n",
        "# Test delete_max on heap of size 1, should result in empty heap.\n",
        "h.delete_min()\n",
        "print(f'\\t Heap = {h}')\n",
        "print('All tests passed: 10 points!')"
      ],
      "metadata": {
        "colab": {
          "base_uri": "https://localhost:8080/"
        },
        "id": "YygzBLecGDPs",
        "outputId": "35a3f26d-b092-4330-a038-bd6c46753941"
      },
      "execution_count": 10,
      "outputs": [
        {
          "output_type": "stream",
          "name": "stdout",
          "text": [
            "Inserting: 5, 2, 4, -1 and 7 in that order.\n",
            "\t Heap = [5]\n",
            "\t Heap = [2, 5]\n",
            "\t Heap = [2, 5, 4]\n",
            "\t Heap = [-1, 2, 4, 5]\n",
            "\t Heap = [-1, 2, 4, 5, 7]\n",
            "Deleting minimum element\n",
            "\t Heap = [2, 5, 4, 7]\n",
            "\t Heap = [4, 5, 7]\n",
            "\t Heap = [5, 7]\n",
            "\t Heap = [7]\n",
            "\t Heap = []\n",
            "All tests passed: 10 points!\n"
          ]
        }
      ]
    },
    {
      "cell_type": "markdown",
      "source": [
        "## Learning Classes"
      ],
      "metadata": {
        "id": "rpEUX1JEHpCW"
      }
    },
    {
      "cell_type": "code",
      "source": [
        "class Point():\n",
        "  def move(self): # we must always call \"self\" when defining a function within a class\n",
        "    print(\"move\")\n",
        "\n",
        "  def draw(self):\n",
        "    print(\"draw\")\n",
        "\n",
        "point1 = Point()\n",
        "point1.x = 10\n",
        "point1.y = 20\n",
        "\n",
        "print(point1.x)\n",
        "point1.draw()\n",
        "\n",
        "point2 = Point()\n",
        "point2.x = 1\n",
        "print(point2.x)"
      ],
      "metadata": {
        "colab": {
          "base_uri": "https://localhost:8080/"
        },
        "id": "y3OKyNPrGHzu",
        "outputId": "9a830a4b-2c8d-4f87-b773-bea58996d095"
      },
      "execution_count": 14,
      "outputs": [
        {
          "output_type": "stream",
          "name": "stdout",
          "text": [
            "10\n",
            "draw\n",
            "1\n"
          ]
        }
      ]
    }
  ]
}